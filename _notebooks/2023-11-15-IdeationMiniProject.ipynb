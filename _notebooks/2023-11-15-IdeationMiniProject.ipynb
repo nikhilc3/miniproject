{
 "cells": [
  {
   "cell_type": "markdown",
   "metadata": {},
   "source": [
    "---\n",
    "layout: post\n",
    "title: Ideation for Mini Project\n",
    "description: The plan for our Computer Science A mini project.\n",
    "categories: []\n",
    "type: hacks\n",
    "courses: {csa: {week: 13} }\n",
    "---"
   ]
  },
  {
   "cell_type": "markdown",
   "metadata": {},
   "source": [
    "## Project Idea\n",
    "Our goal is to create an olympics for sorting algorithms and fibionachi sequences. We want to represent each sorting algorithm as a different athlete in the olympics: bubble, insertion, selection, and merge. And have each of the athletes compete agianst each other in different events representing different types of data sets to show how different sorting algorithms are better for different types of data: long, short, fully random, partially organized, etc."
   ]
  },
  {
   "cell_type": "markdown",
   "metadata": {},
   "source": [
    "## Event Examples\n",
    "For long datasets we plan to create a cross country event where they have to circle a track twice similar to a 800m to show which sorting algorithm performs better for larger amounts of data.\n",
    "\n",
    "## Track"
   ]
  },
  {
   "cell_type": "markdown",
   "metadata": {},
   "source": [
    "<img width=\"1003\" alt=\"Screenshot 2023-11-17 at 1 12 50 AM\" src=\"https://github.com/Code-Demons/miniproject/assets/111464993/f155eb74-dd56-4c0b-94fc-a0596149dbe9\">\n"
   ]
  },
  {
   "cell_type": "markdown",
   "metadata": {},
   "source": [
    "## Athlete Selection"
   ]
  },
  {
   "cell_type": "markdown",
   "metadata": {},
   "source": [
    "- For our athlete selection we wanted to include a way for the player to understand what sorting algorithms are better for which dataset types and why. In order to do this we wanted to make it so that while selecting their athletes, the player could read the attributes or stats of their athlete to know when the sorting algorithm is most effective and when it is least. I did this by including a attribute pop up when the player is hovering over an athlete in order to show all the attributes, strengths, and weakness of a given sorting method to help make the player make the best educated decision about which athlete to go with.\n",
    "    - "
   ]
  },
  {
   "cell_type": "markdown",
   "metadata": {},
   "source": []
  },
  {
   "cell_type": "markdown",
   "metadata": {
    "vscode": {
     "languageId": "html"
    }
   },
   "source": [
    "https://github.com/Code-Demons/miniproject/assets/40652645/4049e8b1-4b24-4c6f-a080-24504607145d\n",
    "https://github.com/Code-Demons/miniproject/assets/40652645/213c0a9e-9c56-4484-9d69-3d1cc5984a5a\n",
    "https://github.com/Code-Demons/miniproject/assets/40652645/a4a76b53-cf84-4a7f-9093-bfa7dc6385c9\n",
    "https://github.com/Code-Demons/miniproject/assets/40652645/6c68be6f-ae9d-44d6-8fb0-706604508827\n"
   ]
  }
 ],
 "metadata": {
  "kernelspec": {
   "display_name": "Python 3.9.12 ('base')",
   "language": "python",
   "name": "python3"
  },
  "language_info": {
   "codemirror_mode": {
    "name": "ipython",
    "version": 3
   },
   "file_extension": ".py",
   "mimetype": "text/x-python",
   "name": "python",
   "nbconvert_exporter": "python",
   "pygments_lexer": "ipython3",
   "version": "3.9.12"
  },
  "orig_nbformat": 4,
  "vscode": {
   "interpreter": {
    "hash": "b39cc0b7d7b7baa8a40a102196f269dabc963c0136c1c82ab9b0b53a6e35bbf2"
   }
  }
 },
 "nbformat": 4,
 "nbformat_minor": 2
}
